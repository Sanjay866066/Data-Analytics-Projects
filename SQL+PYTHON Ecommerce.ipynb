{
 "cells": [
  {
   "cell_type": "markdown",
   "id": "1e82a0ac-4e66-4194-8392-97156c8daf41",
   "metadata": {},
   "source": [
    "# Connecting MYSQL to PYTHON"
   ]
  },
  {
   "cell_type": "code",
   "execution_count": null,
   "id": "5bfc568d-4622-4ecf-808a-226ee366e249",
   "metadata": {},
   "outputs": [
    {
     "name": "stdout",
     "output_type": "stream",
     "text": [
      "Processing customers.csv\n",
      "NaN values before replacement:\n",
      "customer_id                 0\n",
      "customer_unique_id          0\n",
      "customer_zip_code_prefix    0\n",
      "customer_city               0\n",
      "customer_state              0\n",
      "dtype: int64\n",
      "\n",
      "Processing orders.csv\n",
      "NaN values before replacement:\n",
      "order_id                            0\n",
      "customer_id                         0\n",
      "order_status                        0\n",
      "order_purchase_timestamp            0\n",
      "order_approved_at                 160\n",
      "order_delivered_carrier_date     1783\n",
      "order_delivered_customer_date    2965\n",
      "order_estimated_delivery_date       0\n",
      "dtype: int64\n",
      "\n",
      "Processing sellers.csv\n",
      "NaN values before replacement:\n",
      "seller_id                 0\n",
      "seller_zip_code_prefix    0\n",
      "seller_city               0\n",
      "seller_state              0\n",
      "dtype: int64\n",
      "\n",
      "Processing products.csv\n",
      "NaN values before replacement:\n",
      "product_id                      0\n",
      "product category              610\n",
      "product_name_length           610\n",
      "product_description_length    610\n",
      "product_photos_qty            610\n",
      "product_weight_g                2\n",
      "product_length_cm               2\n",
      "product_height_cm               2\n",
      "product_width_cm                2\n",
      "dtype: int64\n",
      "\n",
      "Processing geolocation.csv\n",
      "NaN values before replacement:\n",
      "geolocation_zip_code_prefix    0\n",
      "geolocation_lat                0\n",
      "geolocation_lng                0\n",
      "geolocation_city               0\n",
      "geolocation_state              0\n",
      "dtype: int64\n",
      "\n"
     ]
    }
   ],
   "source": [
    "import pandas as pd\n",
    "import mysql.connector\n",
    "import os\n",
    "\n",
    "# List of CSV files and their corresponding table names\n",
    "csv_files = [\n",
    "    ('customers.csv', 'customers'),\n",
    "    ('orders.csv', 'orders'),\n",
    "    ('sellers.csv', 'sellers'),\n",
    "    ('products.csv', 'products'),\n",
    "    ('geolocation.csv', 'geolocation'),\n",
    "    ('payments.csv', 'payments'),\n",
    "    ('order_items.csv','order_items')# Added payments.csv for specific handling\n",
    "]\n",
    "\n",
    "# Connect to the MySQL database\n",
    "conn = mysql.connector.connect(\n",
    "    host='localhost',\n",
    "    user='root',\n",
    "    password='1992024',\n",
    "    database='ecommerce'\n",
    ")\n",
    "cursor = conn.cursor()\n",
    "\n",
    "# Folder containing the CSV files\n",
    "folder_path = 'C:/Users/sanju/OneDrive/Documents/Ecommerce'\n",
    "\n",
    "def get_sql_type(dtype):\n",
    "    if pd.api.types.is_integer_dtype(dtype):\n",
    "        return 'INT'\n",
    "    elif pd.api.types.is_float_dtype(dtype):\n",
    "        return 'FLOAT'\n",
    "    elif pd.api.types.is_bool_dtype(dtype):\n",
    "        return 'BOOLEAN'\n",
    "    elif pd.api.types.is_datetime64_any_dtype(dtype):\n",
    "        return 'DATETIME'\n",
    "    else:\n",
    "        return 'TEXT'\n",
    "\n",
    "for csv_file, table_name in csv_files:\n",
    "    file_path = os.path.join(folder_path, csv_file)\n",
    "    \n",
    "    # Read the CSV file into a pandas DataFrame\n",
    "    df = pd.read_csv(file_path)\n",
    "    \n",
    "    # Replace NaN with None to handle SQL NULL\n",
    "    df = df.where(pd.notnull(df), None)\n",
    "    \n",
    "    # Debugging: Check for NaN values\n",
    "    print(f\"Processing {csv_file}\")\n",
    "    print(f\"NaN values before replacement:\\n{df.isnull().sum()}\\n\")\n",
    "\n",
    "    # Clean column names\n",
    "    df.columns = [col.replace(' ', '_').replace('-', '_').replace('.', '_') for col in df.columns]\n",
    "\n",
    "    # Generate the CREATE TABLE statement with appropriate data types\n",
    "    columns = ', '.join([f'`{col}` {get_sql_type(df[col].dtype)}' for col in df.columns])\n",
    "    create_table_query = f'CREATE TABLE IF NOT EXISTS `{table_name}` ({columns})'\n",
    "    cursor.execute(create_table_query)\n",
    "\n",
    "    # Insert DataFrame data into the MySQL table\n",
    "    for _, row in df.iterrows():\n",
    "        # Convert row to tuple and handle NaN/None explicitly\n",
    "        values = tuple(None if pd.isna(x) else x for x in row)\n",
    "        sql = f\"INSERT INTO `{table_name}` ({', '.join(['`' + col + '`' for col in df.columns])}) VALUES ({', '.join(['%s'] * len(row))})\"\n",
    "        cursor.execute(sql, values)\n",
    "\n",
    "    # Commit the transaction for the current CSV file\n",
    "    conn.commit()\n",
    "\n",
    "# Close the connection\n",
    "conn.close()"
   ]
  },
  {
   "cell_type": "markdown",
   "id": "b4dbe60a-fbb7-44de-8886-7683338099e9",
   "metadata": {},
   "source": [
    "# Importing Libraries And Connecting"
   ]
  },
  {
   "cell_type": "code",
   "execution_count": 1,
   "id": "53e6d472-cf9b-41d2-8394-53afa72a2d87",
   "metadata": {},
   "outputs": [],
   "source": [
    "import pandas as pd\n",
    "import matplotlib.pyplot as mp\n",
    "import seaborn as sea\n",
    "import mysql.connector\n",
    "import numpy as np\n",
    "\n",
    "db = mysql.connector.connect(\n",
    "    host='localhost',\n",
    "    user='root',\n",
    "    password='1992024',\n",
    "    database='ecommerce')\n",
    "cur = db.cursor()\n",
    "\n"
   ]
  },
  {
   "cell_type": "markdown",
   "id": "40642d16-2f9c-4a0c-97d3-f297ab912dc8",
   "metadata": {},
   "source": [
    "# QAUTIONS FOR PROJECT"
   ]
  },
  {
   "cell_type": "markdown",
   "id": "5d4f6bbf-f7c0-42e2-a7ab-7fa45d9de63c",
   "metadata": {},
   "source": [
    "# List all unique cities where customers are located. "
   ]
  },
  {
   "cell_type": "code",
   "execution_count": 2,
   "id": "a643e620-eec3-4d72-b8ed-80a4ffd96eec",
   "metadata": {},
   "outputs": [
    {
     "data": {
      "text/html": [
       "<div>\n",
       "<style scoped>\n",
       "    .dataframe tbody tr th:only-of-type {\n",
       "        vertical-align: middle;\n",
       "    }\n",
       "\n",
       "    .dataframe tbody tr th {\n",
       "        vertical-align: top;\n",
       "    }\n",
       "\n",
       "    .dataframe thead th {\n",
       "        text-align: right;\n",
       "    }\n",
       "</style>\n",
       "<table border=\"1\" class=\"dataframe\">\n",
       "  <thead>\n",
       "    <tr style=\"text-align: right;\">\n",
       "      <th></th>\n",
       "      <th>0</th>\n",
       "    </tr>\n",
       "  </thead>\n",
       "  <tbody>\n",
       "    <tr>\n",
       "      <th>0</th>\n",
       "      <td>franca</td>\n",
       "    </tr>\n",
       "    <tr>\n",
       "      <th>1</th>\n",
       "      <td>sao bernardo do campo</td>\n",
       "    </tr>\n",
       "    <tr>\n",
       "      <th>2</th>\n",
       "      <td>sao paulo</td>\n",
       "    </tr>\n",
       "    <tr>\n",
       "      <th>3</th>\n",
       "      <td>mogi das cruzes</td>\n",
       "    </tr>\n",
       "    <tr>\n",
       "      <th>4</th>\n",
       "      <td>campinas</td>\n",
       "    </tr>\n",
       "    <tr>\n",
       "      <th>...</th>\n",
       "      <td>...</td>\n",
       "    </tr>\n",
       "    <tr>\n",
       "      <th>4114</th>\n",
       "      <td>siriji</td>\n",
       "    </tr>\n",
       "    <tr>\n",
       "      <th>4115</th>\n",
       "      <td>natividade da serra</td>\n",
       "    </tr>\n",
       "    <tr>\n",
       "      <th>4116</th>\n",
       "      <td>monte bonito</td>\n",
       "    </tr>\n",
       "    <tr>\n",
       "      <th>4117</th>\n",
       "      <td>sao rafael</td>\n",
       "    </tr>\n",
       "    <tr>\n",
       "      <th>4118</th>\n",
       "      <td>eugenio de castro</td>\n",
       "    </tr>\n",
       "  </tbody>\n",
       "</table>\n",
       "<p>4119 rows × 1 columns</p>\n",
       "</div>"
      ],
      "text/plain": [
       "                          0\n",
       "0                    franca\n",
       "1     sao bernardo do campo\n",
       "2                 sao paulo\n",
       "3           mogi das cruzes\n",
       "4                  campinas\n",
       "...                     ...\n",
       "4114                 siriji\n",
       "4115    natividade da serra\n",
       "4116           monte bonito\n",
       "4117             sao rafael\n",
       "4118      eugenio de castro\n",
       "\n",
       "[4119 rows x 1 columns]"
      ]
     },
     "execution_count": 2,
     "metadata": {},
     "output_type": "execute_result"
    }
   ],
   "source": [
    "import mysql.connector\n",
    "\n",
    "query =  \"\"\"select distinct customer_city from customers\"\"\"\n",
    "\n",
    "cur.execute(query)\n",
    "\n",
    "data = cur.fetchall()\n",
    "\n",
    "df = pd.DataFrame(data)\n",
    "df"
   ]
  },
  {
   "cell_type": "markdown",
   "id": "cf8fd53d-6b3e-4912-ab06-b10b4921fd9f",
   "metadata": {},
   "source": [
    "# Count the number of orders placed in 2017."
   ]
  },
  {
   "cell_type": "code",
   "execution_count": 3,
   "id": "2af2e2f0-61b0-4e55-afd9-ce441e49311c",
   "metadata": {},
   "outputs": [
    {
     "data": {
      "text/plain": [
       "('tatal order placed in 2017 are', 90202)"
      ]
     },
     "execution_count": 3,
     "metadata": {},
     "output_type": "execute_result"
    }
   ],
   "source": [
    "\n",
    "query =  \"\"\"select count(order_id) from orders where year(order_purchase_timestamp) = 2017\"\"\"\n",
    "\n",
    "cur.execute(query)\n",
    "\n",
    "data = cur.fetchall()\n",
    "\n",
    "'tatal order placed in 2017 are' ,data[0][0]"
   ]
  },
  {
   "cell_type": "markdown",
   "id": "bf85b7b1-3f44-40a0-b6ab-b4e9bc24b82b",
   "metadata": {},
   "source": [
    "# Find the total sales per category."
   ]
  },
  {
   "cell_type": "code",
   "execution_count": 4,
   "id": "834d6d00-01aa-4c56-a38c-428fe6a95014",
   "metadata": {},
   "outputs": [
    {
     "data": {
      "text/html": [
       "<div>\n",
       "<style scoped>\n",
       "    .dataframe tbody tr th:only-of-type {\n",
       "        vertical-align: middle;\n",
       "    }\n",
       "\n",
       "    .dataframe tbody tr th {\n",
       "        vertical-align: top;\n",
       "    }\n",
       "\n",
       "    .dataframe thead th {\n",
       "        text-align: right;\n",
       "    }\n",
       "</style>\n",
       "<table border=\"1\" class=\"dataframe\">\n",
       "  <thead>\n",
       "    <tr style=\"text-align: right;\">\n",
       "      <th></th>\n",
       "      <th>category</th>\n",
       "      <th>sales</th>\n",
       "    </tr>\n",
       "  </thead>\n",
       "  <tbody>\n",
       "    <tr>\n",
       "      <th>0</th>\n",
       "      <td>PERFUMERY</td>\n",
       "      <td>1013477.32</td>\n",
       "    </tr>\n",
       "    <tr>\n",
       "      <th>1</th>\n",
       "      <td>FURNITURE DECORATION</td>\n",
       "      <td>2860352.78</td>\n",
       "    </tr>\n",
       "    <tr>\n",
       "      <th>2</th>\n",
       "      <td>TELEPHONY</td>\n",
       "      <td>973764.10</td>\n",
       "    </tr>\n",
       "    <tr>\n",
       "      <th>3</th>\n",
       "      <td>BED TABLE BATH</td>\n",
       "      <td>3425107.34</td>\n",
       "    </tr>\n",
       "    <tr>\n",
       "      <th>4</th>\n",
       "      <td>AUTOMOTIVE</td>\n",
       "      <td>1704588.66</td>\n",
       "    </tr>\n",
       "    <tr>\n",
       "      <th>...</th>\n",
       "      <td>...</td>\n",
       "      <td>...</td>\n",
       "    </tr>\n",
       "    <tr>\n",
       "      <th>69</th>\n",
       "      <td>CDS MUSIC DVDS</td>\n",
       "      <td>2398.86</td>\n",
       "    </tr>\n",
       "    <tr>\n",
       "      <th>70</th>\n",
       "      <td>LA CUISINE</td>\n",
       "      <td>5827.06</td>\n",
       "    </tr>\n",
       "    <tr>\n",
       "      <th>71</th>\n",
       "      <td>FASHION CHILDREN'S CLOTHING</td>\n",
       "      <td>1571.34</td>\n",
       "    </tr>\n",
       "    <tr>\n",
       "      <th>72</th>\n",
       "      <td>PC GAMER</td>\n",
       "      <td>4348.86</td>\n",
       "    </tr>\n",
       "    <tr>\n",
       "      <th>73</th>\n",
       "      <td>INSURANCE AND SERVICES</td>\n",
       "      <td>649.02</td>\n",
       "    </tr>\n",
       "  </tbody>\n",
       "</table>\n",
       "<p>74 rows × 2 columns</p>\n",
       "</div>"
      ],
      "text/plain": [
       "                       category       sales\n",
       "0                     PERFUMERY  1013477.32\n",
       "1          FURNITURE DECORATION  2860352.78\n",
       "2                     TELEPHONY   973764.10\n",
       "3                BED TABLE BATH  3425107.34\n",
       "4                    AUTOMOTIVE  1704588.66\n",
       "..                          ...         ...\n",
       "69               CDS MUSIC DVDS     2398.86\n",
       "70                   LA CUISINE     5827.06\n",
       "71  FASHION CHILDREN'S CLOTHING     1571.34\n",
       "72                     PC GAMER     4348.86\n",
       "73       INSURANCE AND SERVICES      649.02\n",
       "\n",
       "[74 rows x 2 columns]"
      ]
     },
     "execution_count": 4,
     "metadata": {},
     "output_type": "execute_result"
    }
   ],
   "source": [
    "\n",
    "query =  \"\"\"select upper(products.product_category) category,round(sum(payments.payment_value),2)sales\n",
    "from products join order_items\n",
    "on products.product_id = order_items.product_id \n",
    "join payments\n",
    "on payments.order_id = order_items.order_id\n",
    "group by category\n",
    "\"\"\"\n",
    "\n",
    "cur.execute(query)\n",
    "\n",
    "data = cur.fetchall()\n",
    "\n",
    "df = pd.DataFrame(data, columns = [\"category\",\"sales\"])\n",
    "df"
   ]
  },
  {
   "cell_type": "markdown",
   "id": "a7db7ae9-9f06-4a71-8cf4-f5d2910cd82d",
   "metadata": {},
   "source": [
    "# Calculate the percentage of orders that were paid in installments."
   ]
  },
  {
   "cell_type": "code",
   "execution_count": 5,
   "id": "42a49614-f93a-46e4-b1ba-96883afcafb0",
   "metadata": {},
   "outputs": [
    {
     "data": {
      "text/plain": [
       "('persentage of orders paid in installment is ', Decimal('99.9981'))"
      ]
     },
     "execution_count": 5,
     "metadata": {},
     "output_type": "execute_result"
    }
   ],
   "source": [
    "query =  \"\"\"select sum(case when payment_installments >=1 then 1 else 0 end) /count(*)*100 from payments\"\"\"\n",
    "\n",
    "cur.execute(query)\n",
    "\n",
    "data = cur.fetchall()\n",
    "\n",
    "\"persentage of orders paid in installment is \",data[0][0]"
   ]
  },
  {
   "cell_type": "markdown",
   "id": "2ecaab0f-7a02-4892-b44a-3ee823c26285",
   "metadata": {},
   "source": [
    "# Count the number of customers from each state."
   ]
  },
  {
   "cell_type": "code",
   "execution_count": 37,
   "id": "5f4b8b8c-0acd-47ad-b8c9-81a4a5474df3",
   "metadata": {},
   "outputs": [
    {
     "name": "stdout",
     "output_type": "stream",
     "text": [
      "   state  total\n",
      "0     SP  83492\n",
      "4     RJ  25704\n",
      "2     MG  23270\n",
      "5     RS  10932\n",
      "3     PR  10090\n",
      "1     SC   7274\n",
      "9     BA   6760\n",
      "13    DF   4280\n",
      "8     ES   4066\n",
      "7     GO   4040\n",
      "15    PE   3304\n",
      "12    CE   2672\n",
      "6     PA   1950\n",
      "16    MT   1814\n",
      "10    MA   1494\n",
      "11    MS   1430\n",
      "21    PB   1072\n",
      "23    PI    990\n",
      "14    RN    970\n",
      "19    AL    826\n",
      "25    SE    700\n",
      "22    TO    560\n",
      "20    RO    506\n",
      "17    AM    296\n",
      "24    AC    162\n",
      "18    AP    136\n",
      "26    RR     92\n"
     ]
    },
    {
     "data": {
      "image/png": "[encoded data removed]",
      "text/plain": [
       "<Figure size 1200x500 with 1 Axes>"
      ]
     },
     "metadata": {},
     "output_type": "display_data"
    }
   ],
   "source": [
    "query =  \"\"\"select customer_state, count(customer_id)\n",
    "from customers group by customer_state\"\"\"\n",
    "\n",
    "cur.execute(query)\n",
    "\n",
    "data = cur.fetchall()\n",
    "\n",
    "df = pd.DataFrame(data,columns = [\"state\",\"total\"])\n",
    "df = df.sort_values(by = \"total\", ascending = False )\n",
    "print(df)\n",
    "\n",
    "mp.figure(figsize = (12,5))\n",
    "mp.bar(df[\"state\"],df[\"total\"])\n",
    "mp.xticks(rotation = 90)\n",
    "mp.xlabel(\"state\")\n",
    "mp.ylabel(\"total\")\n",
    "mp.title(\"total customer by state\")\n",
    "mp.show()"
   ]
  },
  {
   "cell_type": "markdown",
   "id": "80d5d3f1-c042-4f22-9c36-a4158c140f0e",
   "metadata": {},
   "source": [
    "# Calculate the number of orders per month in 2018."
   ]
  },
  {
   "cell_type": "code",
   "execution_count": 7,
   "id": "70c899f1-a223-4945-8552-92311dbe0346",
   "metadata": {},
   "outputs": [
    {
     "name": "stdout",
     "output_type": "stream",
     "text": [
      "      months  orders\n",
      "5    January   14538\n",
      "4      March   14422\n",
      "7      April   13878\n",
      "6        May   13746\n",
      "2   February   13456\n",
      "1     August   13024\n",
      "0       July   12584\n",
      "3       June   12334\n",
      "8  September      32\n",
      "9    October       8\n"
     ]
    },
    {
     "data": {
      "image/png": "[encoded data removed]",
      "text/plain": [
       "<Figure size 640x480 with 1 Axes>"
      ]
     },
     "metadata": {},
     "output_type": "display_data"
    },
    {
     "data": {
      "text/plain": [
       "<Figure size 1000x1500 with 0 Axes>"
      ]
     },
     "metadata": {},
     "output_type": "display_data"
    }
   ],
   "source": [
    "query =  \"\"\"select monthname(order_purchase_timestamp) months,count(order_id) order_count from orders\n",
    "where year(order_purchase_timestamp) = 2018\n",
    "group by months\"\"\"\n",
    "\n",
    "cur.execute(query)\n",
    "\n",
    "data = cur.fetchall()\n",
    "df = pd.DataFrame(data,columns = [\"months\",\"orders\"])\n",
    "df = df.sort_values(by = \"orders\", ascending = False)\n",
    "print(df)\n",
    "\n",
    "\n",
    "\n",
    "fx = sea.barplot(data = df,x=df[\"months\"],y=df[\"orders\"], color = \"green\")\n",
    "mp.xticks(rotation = 45)\n",
    "mp.figure(figsize =(10,15))\n",
    "fx.bar_label(fx.containers[0])\n",
    "\n",
    "\n",
    "mp.show()"
   ]
  },
  {
   "cell_type": "markdown",
   "id": "4fc3f771-dd91-4642-8081-4664b2f1ce6e",
   "metadata": {},
   "source": [
    "# Find the average number of products per order, grouped by customer city."
   ]
  },
  {
   "cell_type": "code",
   "execution_count": 8,
   "id": "e1adab92-a472-4854-ac01-a29afb921794",
   "metadata": {},
   "outputs": [
    {
     "data": {
      "text/html": [
       "<div>\n",
       "<style scoped>\n",
       "    .dataframe tbody tr th:only-of-type {\n",
       "        vertical-align: middle;\n",
       "    }\n",
       "\n",
       "    .dataframe tbody tr th {\n",
       "        vertical-align: top;\n",
       "    }\n",
       "\n",
       "    .dataframe thead th {\n",
       "        text-align: right;\n",
       "    }\n",
       "</style>\n",
       "<table border=\"1\" class=\"dataframe\">\n",
       "  <thead>\n",
       "    <tr style=\"text-align: right;\">\n",
       "      <th></th>\n",
       "      <th>customer city</th>\n",
       "      <th>average product/order</th>\n",
       "    </tr>\n",
       "  </thead>\n",
       "  <tbody>\n",
       "    <tr>\n",
       "      <th>0</th>\n",
       "      <td>padre carvalho</td>\n",
       "      <td>14.00</td>\n",
       "    </tr>\n",
       "    <tr>\n",
       "      <th>1</th>\n",
       "      <td>celso ramos</td>\n",
       "      <td>13.00</td>\n",
       "    </tr>\n",
       "    <tr>\n",
       "      <th>2</th>\n",
       "      <td>datas</td>\n",
       "      <td>12.00</td>\n",
       "    </tr>\n",
       "    <tr>\n",
       "      <th>3</th>\n",
       "      <td>candido godoi</td>\n",
       "      <td>12.00</td>\n",
       "    </tr>\n",
       "    <tr>\n",
       "      <th>4</th>\n",
       "      <td>matias olimpio</td>\n",
       "      <td>10.00</td>\n",
       "    </tr>\n",
       "    <tr>\n",
       "      <th>5</th>\n",
       "      <td>cidelandia</td>\n",
       "      <td>8.00</td>\n",
       "    </tr>\n",
       "    <tr>\n",
       "      <th>6</th>\n",
       "      <td>curralinho</td>\n",
       "      <td>8.00</td>\n",
       "    </tr>\n",
       "    <tr>\n",
       "      <th>7</th>\n",
       "      <td>picarra</td>\n",
       "      <td>8.00</td>\n",
       "    </tr>\n",
       "    <tr>\n",
       "      <th>8</th>\n",
       "      <td>morro de sao paulo</td>\n",
       "      <td>8.00</td>\n",
       "    </tr>\n",
       "    <tr>\n",
       "      <th>9</th>\n",
       "      <td>teixeira soares</td>\n",
       "      <td>8.00</td>\n",
       "    </tr>\n",
       "  </tbody>\n",
       "</table>\n",
       "</div>"
      ],
      "text/plain": [
       "        customer city average product/order\n",
       "0      padre carvalho                 14.00\n",
       "1         celso ramos                 13.00\n",
       "2               datas                 12.00\n",
       "3       candido godoi                 12.00\n",
       "4      matias olimpio                 10.00\n",
       "5          cidelandia                  8.00\n",
       "6          curralinho                  8.00\n",
       "7             picarra                  8.00\n",
       "8  morro de sao paulo                  8.00\n",
       "9     teixeira soares                  8.00"
      ]
     },
     "execution_count": 8,
     "metadata": {},
     "output_type": "execute_result"
    }
   ],
   "source": [
    "query =  \"\"\"with count_per_order as (select orders.order_id, orders.customer_id, count(order_items.order_id) as oc from orders\n",
    "join order_items on orders.order_id = order_items.order_id group by orders.order_id, orders.customer_id)\n",
    "\n",
    "select customers.customer_city, round(avg(count_per_order.oc),2) average_orders from customers join count_per_order\n",
    "on customers.customer_id = count_per_order.customer_id group by customers.customer_city order by average_orders desc\"\"\"\n",
    "\n",
    "cur.execute(query)\n",
    "\n",
    "data = cur.fetchall()\n",
    "df = pd.DataFrame(data, columns = [\"customer city\",\"average product/order\"])\n",
    "df.head(10)"
   ]
  },
  {
   "cell_type": "markdown",
   "id": "5c411024-e3e5-46f2-8cc2-0e94235f13f9",
   "metadata": {},
   "source": [
    "# Calculate the percentage of total revenue contributed by each product category."
   ]
  },
  {
   "cell_type": "code",
   "execution_count": 9,
   "id": "952574f5-1105-4852-94de-621205962ff8",
   "metadata": {},
   "outputs": [
    {
     "data": {
      "text/html": [
       "<div>\n",
       "<style scoped>\n",
       "    .dataframe tbody tr th:only-of-type {\n",
       "        vertical-align: middle;\n",
       "    }\n",
       "\n",
       "    .dataframe tbody tr th {\n",
       "        vertical-align: top;\n",
       "    }\n",
       "\n",
       "    .dataframe thead th {\n",
       "        text-align: right;\n",
       "    }\n",
       "</style>\n",
       "<table border=\"1\" class=\"dataframe\">\n",
       "  <thead>\n",
       "    <tr style=\"text-align: right;\">\n",
       "      <th></th>\n",
       "      <th>category</th>\n",
       "      <th>persentage distribution</th>\n",
       "    </tr>\n",
       "  </thead>\n",
       "  <tbody>\n",
       "    <tr>\n",
       "      <th>0</th>\n",
       "      <td>BED TABLE BATH</td>\n",
       "      <td>21.40</td>\n",
       "    </tr>\n",
       "    <tr>\n",
       "      <th>1</th>\n",
       "      <td>HEALTH BEAUTY</td>\n",
       "      <td>20.71</td>\n",
       "    </tr>\n",
       "    <tr>\n",
       "      <th>2</th>\n",
       "      <td>COMPUTER ACCESSORIES</td>\n",
       "      <td>19.81</td>\n",
       "    </tr>\n",
       "    <tr>\n",
       "      <th>3</th>\n",
       "      <td>FURNITURE DECORATION</td>\n",
       "      <td>17.87</td>\n",
       "    </tr>\n",
       "    <tr>\n",
       "      <th>4</th>\n",
       "      <td>WATCHES PRESENT</td>\n",
       "      <td>17.86</td>\n",
       "    </tr>\n",
       "    <tr>\n",
       "      <th>...</th>\n",
       "      <td>...</td>\n",
       "      <td>...</td>\n",
       "    </tr>\n",
       "    <tr>\n",
       "      <th>69</th>\n",
       "      <td>PC GAMER</td>\n",
       "      <td>0.03</td>\n",
       "    </tr>\n",
       "    <tr>\n",
       "      <th>70</th>\n",
       "      <td>HOUSE COMFORT 2</td>\n",
       "      <td>0.02</td>\n",
       "    </tr>\n",
       "    <tr>\n",
       "      <th>71</th>\n",
       "      <td>CDS MUSIC DVDS</td>\n",
       "      <td>0.01</td>\n",
       "    </tr>\n",
       "    <tr>\n",
       "      <th>72</th>\n",
       "      <td>FASHION CHILDREN'S CLOTHING</td>\n",
       "      <td>0.01</td>\n",
       "    </tr>\n",
       "    <tr>\n",
       "      <th>73</th>\n",
       "      <td>INSURANCE AND SERVICES</td>\n",
       "      <td>0.00</td>\n",
       "    </tr>\n",
       "  </tbody>\n",
       "</table>\n",
       "<p>74 rows × 2 columns</p>\n",
       "</div>"
      ],
      "text/plain": [
       "                       category  persentage distribution\n",
       "0                BED TABLE BATH                    21.40\n",
       "1                 HEALTH BEAUTY                    20.71\n",
       "2          COMPUTER ACCESSORIES                    19.81\n",
       "3          FURNITURE DECORATION                    17.87\n",
       "4               WATCHES PRESENT                    17.86\n",
       "..                          ...                      ...\n",
       "69                     PC GAMER                     0.03\n",
       "70              HOUSE COMFORT 2                     0.02\n",
       "71               CDS MUSIC DVDS                     0.01\n",
       "72  FASHION CHILDREN'S CLOTHING                     0.01\n",
       "73       INSURANCE AND SERVICES                     0.00\n",
       "\n",
       "[74 rows x 2 columns]"
      ]
     },
     "execution_count": 9,
     "metadata": {},
     "output_type": "execute_result"
    }
   ],
   "source": [
    "query =  \"\"\"select upper(products.product_category) category,round(sum(payments.payment_value)/(select sum(payment_value) from payments)*100,2) sales\n",
    "from products join order_items\n",
    "on products.product_id = order_items.product_id \n",
    "join payments\n",
    "on payments.order_id = order_items.order_id\n",
    "group by category order by sales desc\"\"\"\n",
    "\n",
    "cur.execute(query)\n",
    "\n",
    "data = cur.fetchall()\n",
    "df = pd.DataFrame(data, columns = [\"category\",\"persentage distribution\"])\n",
    "df"
   ]
  },
  {
   "cell_type": "markdown",
   "id": "c4634e1b-c335-4739-9084-46f4e2171f75",
   "metadata": {},
   "source": [
    "# Identify the correlation between product price and the number of times a product has been purchased."
   ]
  },
  {
   "cell_type": "code",
   "execution_count": 14,
   "id": "f541ea75-62be-4b0e-ac06-10bfd5d1fdab",
   "metadata": {},
   "outputs": [
    {
     "name": "stdout",
     "output_type": "stream",
     "text": [
      "                           category  order count   price\n",
      "0                     HEALTH BEAUTY        19340  130.16\n",
      "1                     sport leisure        17282  114.34\n",
      "2                        Cool Stuff         7592  167.36\n",
      "3              computer accessories        15654  116.51\n",
      "4                   Watches present        11982  201.14\n",
      "..                              ...          ...     ...\n",
      "69                          flowers           66   33.64\n",
      "70  Kitchen portable and food coach           30  264.57\n",
      "71       CITTE AND UPHACK FURNITURE           76  114.95\n",
      "72                  House Comfort 2           60   25.34\n",
      "73                   cds music dvds           28   52.14\n",
      "\n",
      "[74 rows x 3 columns]\n",
      " the correlation between time and number of times a products as been purchased is -0.10631514167157562\n"
     ]
    }
   ],
   "source": [
    "query =  \"\"\"select products.product_category,count(order_items.product_id),\n",
    "round(avg(order_items.price),2)\n",
    "from products join order_items on\n",
    "products.product_id = order_items.product_id\n",
    "group by products.product_category\"\"\"\n",
    "\n",
    "cur.execute(query)\n",
    "\n",
    "data = cur.fetchall()\n",
    "df = pd.DataFrame(data, columns = [\"category\",\"order count\",\"price\"])\n",
    "\n",
    "print(df)\n",
    "\n",
    "arr1 = df[\"order count\"]\n",
    "arr2 = df[\"price\"]\n",
    "\n",
    " \n",
    "a = np.corrcoef([arr1,arr2])\n",
    "print(\" the correlation between time and number of times a products as been purchased is\", a[0][-1])"
   ]
  },
  {
   "cell_type": "markdown",
   "id": "53faf5d6-f4da-4f1b-985d-027bba4a9261",
   "metadata": {},
   "source": [
    "# Calculate the total revenue generated by each seller, and rank them by revenue."
   ]
  },
  {
   "cell_type": "code",
   "execution_count": 32,
   "id": "ef50947e-920b-43be-96b9-3428db30d3ba",
   "metadata": {},
   "outputs": [
    {
     "data": {
      "text/plain": [
       "([0, 1, 2, 3, 4],\n",
       " [Text(0, 0, '7c67e1448b00f6e969d365cea6b010ab'),\n",
       "  Text(1, 0, '1025f0e2d44d7041d6cf58b6550e0bfa'),\n",
       "  Text(2, 0, '4a3ca9315b744ce9f8e9374361493884'),\n",
       "  Text(3, 0, '1f50f920176fa81dab994f9023523100'),\n",
       "  Text(4, 0, '53243585a1d6dc2643021fd1853d8905')])"
      ]
     },
     "execution_count": 32,
     "metadata": {},
     "output_type": "execute_result"
    },
    {
     "data": {
      "image/png": "[encoded data removed]",
      "text/plain": [
       "<Figure size 640x480 with 1 Axes>"
      ]
     },
     "metadata": {},
     "output_type": "display_data"
    }
   ],
   "source": [
    "query =  \"\"\"select *,dense_rank() over(order by revenue desc) as rn from \n",
    "(select order_items.seller_id, sum(payments.payment_value)\n",
    "revenue from order_items join payments\n",
    "on order_items.order_id = payments.order_id\n",
    "group by order_items.seller_id) as a\n",
    "\"\"\"\n",
    "\n",
    "cur.execute(query)\n",
    "\n",
    "data = cur.fetchall()\n",
    "df = pd.DataFrame(data, columns = [\"seller id\",\"revenue\",\"rank\"])\n",
    "df = df.head()\n",
    "sea.barplot(x = \"seller id\", y = \"revenue\",data = df,color = \"orange\" )\n",
    "mp.xlabel(\"seller id\")\n",
    "mp.ylabel(\"revenue\")\n",
    "mp.title(\"Revenue By Seller\")\n",
    "mp.xticks(rotation = 45)"
   ]
  },
  {
   "cell_type": "markdown",
   "id": "e38fdc71-3a5a-435e-8d62-39c6db1702a7",
   "metadata": {},
   "source": [
    "# Calculate the moving average of order values for each customer over their order history."
   ]
  },
  {
   "cell_type": "code",
   "execution_count": 40,
   "id": "11a1372c-e427-462f-a058-95d6367d5863",
   "metadata": {},
   "outputs": [
    {
     "data": {
      "text/html": [
       "<div>\n",
       "<style scoped>\n",
       "    .dataframe tbody tr th:only-of-type {\n",
       "        vertical-align: middle;\n",
       "    }\n",
       "\n",
       "    .dataframe tbody tr th {\n",
       "        vertical-align: top;\n",
       "    }\n",
       "\n",
       "    .dataframe thead th {\n",
       "        text-align: right;\n",
       "    }\n",
       "</style>\n",
       "<table border=\"1\" class=\"dataframe\">\n",
       "  <thead>\n",
       "    <tr style=\"text-align: right;\">\n",
       "      <th></th>\n",
       "      <th>customer id</th>\n",
       "      <th>order_purchase_timestamp</th>\n",
       "      <th>payment</th>\n",
       "      <th>mov_avg</th>\n",
       "    </tr>\n",
       "  </thead>\n",
       "  <tbody>\n",
       "    <tr>\n",
       "      <th>0</th>\n",
       "      <td>00012a2ce6f8dcda20d059ce98491703</td>\n",
       "      <td>2017-11-14 16:08:26</td>\n",
       "      <td>114.74</td>\n",
       "      <td>114.739998</td>\n",
       "    </tr>\n",
       "    <tr>\n",
       "      <th>1</th>\n",
       "      <td>00012a2ce6f8dcda20d059ce98491703</td>\n",
       "      <td>2017-11-14 16:08:26</td>\n",
       "      <td>114.74</td>\n",
       "      <td>114.739998</td>\n",
       "    </tr>\n",
       "    <tr>\n",
       "      <th>2</th>\n",
       "      <td>000161a058600d5901f007fab4c27140</td>\n",
       "      <td>2017-07-16 09:40:32</td>\n",
       "      <td>67.41</td>\n",
       "      <td>67.410004</td>\n",
       "    </tr>\n",
       "    <tr>\n",
       "      <th>3</th>\n",
       "      <td>000161a058600d5901f007fab4c27140</td>\n",
       "      <td>2017-07-16 09:40:32</td>\n",
       "      <td>67.41</td>\n",
       "      <td>67.410004</td>\n",
       "    </tr>\n",
       "    <tr>\n",
       "      <th>4</th>\n",
       "      <td>0001fd6190edaaf884bcaf3d49edf079</td>\n",
       "      <td>2017-02-28 11:06:43</td>\n",
       "      <td>195.42</td>\n",
       "      <td>195.419998</td>\n",
       "    </tr>\n",
       "    <tr>\n",
       "      <th>...</th>\n",
       "      <td>...</td>\n",
       "      <td>...</td>\n",
       "      <td>...</td>\n",
       "      <td>...</td>\n",
       "    </tr>\n",
       "    <tr>\n",
       "      <th>207767</th>\n",
       "      <td>ffff42319e9b2d713724ae527742af25</td>\n",
       "      <td>2018-06-13 16:57:05</td>\n",
       "      <td>214.13</td>\n",
       "      <td>214.130005</td>\n",
       "    </tr>\n",
       "    <tr>\n",
       "      <th>207768</th>\n",
       "      <td>ffffa3172527f765de70084a7e53aae8</td>\n",
       "      <td>2017-09-02 11:53:32</td>\n",
       "      <td>45.50</td>\n",
       "      <td>45.500000</td>\n",
       "    </tr>\n",
       "    <tr>\n",
       "      <th>207769</th>\n",
       "      <td>ffffa3172527f765de70084a7e53aae8</td>\n",
       "      <td>2017-09-02 11:53:32</td>\n",
       "      <td>45.50</td>\n",
       "      <td>45.500000</td>\n",
       "    </tr>\n",
       "    <tr>\n",
       "      <th>207770</th>\n",
       "      <td>ffffe8b65bbe3087b653a978c870db99</td>\n",
       "      <td>2017-09-29 14:07:03</td>\n",
       "      <td>18.37</td>\n",
       "      <td>18.370001</td>\n",
       "    </tr>\n",
       "    <tr>\n",
       "      <th>207771</th>\n",
       "      <td>ffffe8b65bbe3087b653a978c870db99</td>\n",
       "      <td>2017-09-29 14:07:03</td>\n",
       "      <td>18.37</td>\n",
       "      <td>18.370001</td>\n",
       "    </tr>\n",
       "  </tbody>\n",
       "</table>\n",
       "<p>207772 rows × 4 columns</p>\n",
       "</div>"
      ],
      "text/plain": [
       "                             customer id order_purchase_timestamp  payment  \\\n",
       "0       00012a2ce6f8dcda20d059ce98491703      2017-11-14 16:08:26   114.74   \n",
       "1       00012a2ce6f8dcda20d059ce98491703      2017-11-14 16:08:26   114.74   \n",
       "2       000161a058600d5901f007fab4c27140      2017-07-16 09:40:32    67.41   \n",
       "3       000161a058600d5901f007fab4c27140      2017-07-16 09:40:32    67.41   \n",
       "4       0001fd6190edaaf884bcaf3d49edf079      2017-02-28 11:06:43   195.42   \n",
       "...                                  ...                      ...      ...   \n",
       "207767  ffff42319e9b2d713724ae527742af25      2018-06-13 16:57:05   214.13   \n",
       "207768  ffffa3172527f765de70084a7e53aae8      2017-09-02 11:53:32    45.50   \n",
       "207769  ffffa3172527f765de70084a7e53aae8      2017-09-02 11:53:32    45.50   \n",
       "207770  ffffe8b65bbe3087b653a978c870db99      2017-09-29 14:07:03    18.37   \n",
       "207771  ffffe8b65bbe3087b653a978c870db99      2017-09-29 14:07:03    18.37   \n",
       "\n",
       "           mov_avg  \n",
       "0       114.739998  \n",
       "1       114.739998  \n",
       "2        67.410004  \n",
       "3        67.410004  \n",
       "4       195.419998  \n",
       "...            ...  \n",
       "207767  214.130005  \n",
       "207768   45.500000  \n",
       "207769   45.500000  \n",
       "207770   18.370001  \n",
       "207771   18.370001  \n",
       "\n",
       "[207772 rows x 4 columns]"
      ]
     },
     "execution_count": 40,
     "metadata": {},
     "output_type": "execute_result"
    }
   ],
   "source": [
    "query =  \"\"\"select customer_id, order_purchase_timestamp,payment,avg(payment) over(partition by customer_id\n",
    "order by order_purchase_timestamp rows between 2 preceding and current row) as mov_avg\n",
    "from\n",
    "(select orders.customer_id, orders.order_purchase_timestamp,\n",
    "payments.payment_value as payment from \n",
    "payments join orders on payments.order_id = orders.order_id) as a\n",
    "\"\"\"\n",
    "\n",
    "cur.execute(query)\n",
    "\n",
    "data = cur.fetchall()\n",
    "df = pd.DataFrame(data, columns = [\"customer id\",\"order_purchase_timestamp\",\"payment\",\"mov_avg\"])\n",
    "df"
   ]
  },
  {
   "cell_type": "markdown",
   "id": "938da48e-4f1c-42c0-b1d5-da9af38fdf6a",
   "metadata": {},
   "source": [
    "# Calculate the cumulative sales per month for each year."
   ]
  },
  {
   "cell_type": "code",
   "execution_count": 74,
   "id": "f61a510f-fab8-4338-a673-cfdb7a874e7f",
   "metadata": {},
   "outputs": [
    {
     "name": "stdout",
     "output_type": "stream",
     "text": [
      "    years  months     payment  cumulitive_sales\n",
      "0    2016       9      504.48            504.48\n",
      "1    2016      10   118180.96         118685.44\n",
      "2    2016      12       39.24         118724.68\n",
      "3    2017       1   276976.08         395700.76\n",
      "4    2017       2   583816.02         979516.78\n",
      "5    2017       3   899727.20        1879243.98\n",
      "6    2017       4   835576.06        2714820.04\n",
      "7    2017       5  1185837.64        3900657.68\n",
      "8    2017       6  1022552.76        4923210.44\n",
      "9    2017       7  1184765.84        6107976.28\n",
      "10   2017       8  1348792.64        7456768.92\n",
      "11   2017       9  1455524.90        8912293.82\n",
      "12   2017      10  1559355.76       10471649.58\n",
      "13   2017      11  2389765.60       12861415.18\n",
      "14   2017      12  1756802.96       14618218.14\n",
      "15   2018       1  2230008.36       16848226.50\n",
      "16   2018       2  1984926.68       18833153.18\n",
      "17   2018       3  2319304.24       21152457.42\n",
      "18   2018       4  2321570.96       23474028.38\n",
      "19   2018       5  2307964.30       25781992.68\n",
      "20   2018       6  2047761.00       27829753.68\n",
      "21   2018       7  2133081.50       29962835.18\n",
      "22   2018       8  2044850.64       32007685.82\n",
      "23   2018       9     8879.08       32016564.90\n",
      "24   2018      10     1179.34       32017744.24\n"
     ]
    },
    {
     "data": {
      "image/png": "[encoded data removed]",
      "text/plain": [
       "<Figure size 640x480 with 1 Axes>"
      ]
     },
     "metadata": {},
     "output_type": "display_data"
    }
   ],
   "source": [
    "query =  \"\"\"select years, months , payment, sum(payment) over(order by years, months)cumulitive_sales from\n",
    "(select year(orders.order_purchase_timestamp) as years,month(orders.order_purchase_timestamp) as months,\n",
    "round(sum(payments.payment_value),2) as payment from orders join payments on orders.order_id = payments.order_id\n",
    "group by years, months order by years, months) as a\n",
    "\"\"\"\n",
    "\n",
    "cur.execute(query)\n",
    "\n",
    "data = cur.fetchall()\n",
    "df = pd.DataFrame(data, columns = [\"years\",\"months\",\"payment\",\"cumulitive_sales\"])\n",
    "print(df)\n",
    "\n",
    "sea.lineplot(data = df, x = \"months\", y = \"payment\",color = \"olive\")\n",
    "mp.xticks(rotation = 45)\n",
    "mp.show()"
   ]
  },
  {
   "cell_type": "markdown",
   "id": "e490b3bd-02b3-4de5-bfaa-dbcedca7a499",
   "metadata": {},
   "source": [
    "#  Calculate the year-over-year growth rate of total sales."
   ]
  },
  {
   "cell_type": "code",
   "execution_count": 57,
   "id": "5bcb0e56-c913-4f50-bdeb-e1f9a17a73c3",
   "metadata": {},
   "outputs": [
    {
     "name": "stdout",
     "output_type": "stream",
     "text": [
      "   years  yoy % growth\n",
      "0   2016           NaN\n",
      "1   2017  12112.703761\n",
      "2   2018     20.000924\n"
     ]
    }
   ],
   "source": [
    "query =\"\"\"with a as (select year(orders.order_purchase_timestamp) as years,\n",
    "round(sum(payments.payment_value),2) as payment from orders join payments on orders.order_id = payments.order_id\n",
    "group by years order by years)\n",
    "\n",
    "\n",
    "select years,((payment - lag(payment, 1) over(order by years)) / lag(payment, 1) over(order by years))*100 previos_year from a\n",
    "\"\"\"\n",
    "\n",
    "cur.execute(query)\n",
    "\n",
    "data = cur.fetchall()\n",
    "df = pd.DataFrame(data, columns = [\"years\",\"yoy % growth\"])\n",
    "print(df)"
   ]
  },
  {
   "cell_type": "markdown",
   "id": "9a23e810-67fa-48cb-8867-accd39920cb6",
   "metadata": {},
   "source": [
    "# Calculate the retention rate of customers, defined as the percentage of customers who make another purchase within 6 months of their first purchase."
   ]
  },
  {
   "cell_type": "code",
   "execution_count": 58,
   "id": "722d480b-1a6f-488b-b12a-2fa0fe8703d5",
   "metadata": {},
   "outputs": [
    {
     "data": {
      "text/html": [
       "<div>\n",
       "<style scoped>\n",
       "    .dataframe tbody tr th:only-of-type {\n",
       "        vertical-align: middle;\n",
       "    }\n",
       "\n",
       "    .dataframe tbody tr th {\n",
       "        vertical-align: top;\n",
       "    }\n",
       "\n",
       "    .dataframe thead th {\n",
       "        text-align: right;\n",
       "    }\n",
       "</style>\n",
       "<table border=\"1\" class=\"dataframe\">\n",
       "  <thead>\n",
       "    <tr style=\"text-align: right;\">\n",
       "      <th></th>\n",
       "      <th>0</th>\n",
       "    </tr>\n",
       "  </thead>\n",
       "  <tbody>\n",
       "    <tr>\n",
       "      <th>0</th>\n",
       "      <td>None</td>\n",
       "    </tr>\n",
       "  </tbody>\n",
       "</table>\n",
       "</div>"
      ],
      "text/plain": [
       "      0\n",
       "0  None"
      ]
     },
     "execution_count": 58,
     "metadata": {},
     "output_type": "execute_result"
    }
   ],
   "source": [
    "\n",
    "query =\"\"\"WITH a AS (\n",
    "    SELECT customers.customer_id,\n",
    "           MIN(orders.order_purchase_timestamp) AS first_order\n",
    "    FROM customers\n",
    "    JOIN orders ON customers.customer_id = orders.customer_id\n",
    "    GROUP BY customers.customer_id\n",
    "),\n",
    "b AS (\n",
    "    SELECT a.customer_id,\n",
    "           COUNT(DISTINCT orders.order_purchase_timestamp) AS next_order\n",
    "    FROM a\n",
    "    JOIN orders ON orders.customer_id = a.customer_id\n",
    "    WHERE orders.order_purchase_timestamp > first_order\n",
    "      AND orders.order_purchase_timestamp < DATE_ADD(first_order, INTERVAL 6 MONTH)\n",
    "    GROUP BY a.customer_id\n",
    ")\n",
    "SELECT 100 * (COUNT(DISTINCT a.customer_id) / COUNT(DISTINCT b.customer_id))\n",
    "FROM a\n",
    "LEFT JOIN b ON a.customer_id = b.customer_id\n",
    "\"\"\"\n",
    "\n",
    "cur.execute(query)\n",
    "\n",
    "data = cur.fetchall()\n",
    "df = pd.DataFrame(data)\n",
    "df"
   ]
  },
  {
   "cell_type": "markdown",
   "id": "9a0b2e47-7f56-4082-b899-8f4e4efef7f1",
   "metadata": {},
   "source": [
    "# Identify the top 3 customers who spent the most money in each year."
   ]
  },
  {
   "cell_type": "code",
   "execution_count": 71,
   "id": "44d24987-3936-4ec6-8c19-2ae5e6607fba",
   "metadata": {},
   "outputs": [
    {
     "name": "stdout",
     "output_type": "stream",
     "text": [
      "   years                                id       payment  rank\n",
      "3   2017  1617b1357756262bfa56ab541c47bc16  27328.160156     1\n",
      "6   2018  ec5b2ba62e574342386871631fafd3fc  14549.759766     1\n",
      "4   2017  c6e2731c5b391845f6800c97401a43a9  13858.620117     2\n",
      "7   2018  f48d464a0baaea338cb25f816991ab1f  13844.419922     2\n",
      "5   2017  3fd6777bbce08a352fddd04e4a7cc8f6  13453.320312     3\n",
      "8   2018  e0a2412720e9ea4f26c1ac985f6a7358   9618.879883     3\n",
      "0   2016  a9dc96b027d1252bbac0a9b72d837fc6   2847.100098     1\n",
      "1   2016  1d34ed25963d5aae4cf3d7f3a4cda173   2801.479980     2\n",
      "2   2016  4a06381959b6670756de02e07b83815f   2455.560059     3\n"
     ]
    },
    {
     "data": {
      "image/png": "[encoded data removed]",
      "text/plain": [
       "<Figure size 640x480 with 1 Axes>"
      ]
     },
     "metadata": {},
     "output_type": "display_data"
    }
   ],
   "source": [
    "query =\"\"\"WITH ranked_customers AS (\n",
    "    SELECT YEAR(orders.order_purchase_timestamp) AS years,\n",
    "           orders.customer_id,\n",
    "           SUM(payments.payment_value) AS payment,\n",
    "           DENSE_RANK() OVER (\n",
    "               PARTITION BY YEAR(orders.order_purchase_timestamp)\n",
    "               ORDER BY SUM(payments.payment_value) DESC\n",
    "           ) AS d_rank\n",
    "    FROM orders\n",
    "    JOIN payments ON payments.order_id = orders.order_id\n",
    "    GROUP BY YEAR(orders.order_purchase_timestamp), orders.customer_id\n",
    ")\n",
    "SELECT years, customer_id, payment, d_rank\n",
    "FROM ranked_customers\n",
    "WHERE d_rank <= 3\n",
    "\"\"\"\n",
    "\n",
    "cur.execute(query)\n",
    "\n",
    "data = cur.fetchall()\n",
    "df = pd.DataFrame(data, columns = [\"years\",\"id\",\"payment\",\"rank\"])\n",
    "df = df.sort_values(by = \"payment\", ascending = False)\n",
    "print(df)\n",
    "\n",
    "sea.barplot(data = df,x = \"id\",y = \"payment\",hue = \"years\")\n",
    "mp.xticks(rotation = 45)\n",
    "mp.show()"
   ]
  },
  {
   "cell_type": "code",
   "execution_count": null,
   "id": "4ac98074-9a88-40a6-9016-5d305db95f1e",
   "metadata": {},
   "outputs": [],
   "source": []
  }
 ],
 "metadata": {
  "kernelspec": {
   "display_name": "Python 3 (ipykernel)",
   "language": "python",
   "name": "python3"
  },
  "language_info": {
   "codemirror_mode": {
    "name": "ipython",
    "version": 3
   },
   "file_extension": ".py",
   "mimetype": "text/x-python",
   "name": "python",
   "nbconvert_exporter": "python",
   "pygments_lexer": "ipython3",
   "version": "3.13.0"
  }
 },
 "nbformat": 4,
 "nbformat_minor": 5
}
